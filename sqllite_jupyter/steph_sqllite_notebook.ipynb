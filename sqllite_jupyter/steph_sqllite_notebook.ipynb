{
 "cells": [
  {
   "attachments": {},
   "cell_type": "markdown",
   "metadata": {},
   "source": [
    "# Steph's SqlLite Jupyter Notebook Experiments\n",
    "\n",
    "Here's a list of SQL queries that I ran on the 2020 census data. It can be cloned and ran locally using Jupyter notebook (by clicking the play icon to the right of each query block) or viewed directly in GitHub where the last results will be saved. "
   ]
  },
  {
   "cell_type": "code",
   "execution_count": null,
   "metadata": {},
   "outputs": [],
   "source": [
    "# List of imports necessary for this project\n",
    "import pandas as pd\n",
    "from pathlib import Path\n",
    "import sqlite3\n",
    "from IPython.display import display, HTML"
   ]
  }
 ],
 "metadata": {
  "language_info": {
   "name": "python"
  },
  "orig_nbformat": 4
 },
 "nbformat": 4,
 "nbformat_minor": 2
}
